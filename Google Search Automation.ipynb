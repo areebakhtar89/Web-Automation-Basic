{
 "cells": [
  {
   "cell_type": "code",
   "execution_count": 5,
   "metadata": {
    "ExecuteTime": {
     "end_time": "2020-11-12T13:40:55.527544Z",
     "start_time": "2020-11-12T13:40:55.502606Z"
    }
   },
   "outputs": [
    {
     "data": {
      "text/html": [
       "<div>\n",
       "<style scoped>\n",
       "    .dataframe tbody tr th:only-of-type {\n",
       "        vertical-align: middle;\n",
       "    }\n",
       "\n",
       "    .dataframe tbody tr th {\n",
       "        vertical-align: top;\n",
       "    }\n",
       "\n",
       "    .dataframe thead th {\n",
       "        text-align: right;\n",
       "    }\n",
       "</style>\n",
       "<table border=\"1\" class=\"dataframe\">\n",
       "  <thead>\n",
       "    <tr style=\"text-align: right;\">\n",
       "      <th></th>\n",
       "      <th>Titles</th>\n",
       "    </tr>\n",
       "  </thead>\n",
       "  <tbody>\n",
       "    <tr>\n",
       "      <th>0</th>\n",
       "      <td>Current President of USA</td>\n",
       "    </tr>\n",
       "    <tr>\n",
       "      <th>1</th>\n",
       "      <td>Latest Model of Tesla</td>\n",
       "    </tr>\n",
       "    <tr>\n",
       "      <th>2</th>\n",
       "      <td>Current status of Indian stock market</td>\n",
       "    </tr>\n",
       "    <tr>\n",
       "      <th>3</th>\n",
       "      <td>Data Science blogs</td>\n",
       "    </tr>\n",
       "    <tr>\n",
       "      <th>4</th>\n",
       "      <td>Best entertaining channel</td>\n",
       "    </tr>\n",
       "    <tr>\n",
       "      <th>5</th>\n",
       "      <td>Status of Covid Vaccine</td>\n",
       "    </tr>\n",
       "    <tr>\n",
       "      <th>6</th>\n",
       "      <td>How has pandemic affected the economy of USA</td>\n",
       "    </tr>\n",
       "    <tr>\n",
       "      <th>7</th>\n",
       "      <td>Latest Release of Apple</td>\n",
       "    </tr>\n",
       "    <tr>\n",
       "      <th>8</th>\n",
       "      <td>Evening Traffic in Banglore</td>\n",
       "    </tr>\n",
       "    <tr>\n",
       "      <th>9</th>\n",
       "      <td>Results of Bihar Election</td>\n",
       "    </tr>\n",
       "  </tbody>\n",
       "</table>\n",
       "</div>"
      ],
      "text/plain": [
       "                                         Titles\n",
       "0                      Current President of USA\n",
       "1                         Latest Model of Tesla\n",
       "2         Current status of Indian stock market\n",
       "3                            Data Science blogs\n",
       "4                     Best entertaining channel\n",
       "5                       Status of Covid Vaccine\n",
       "6  How has pandemic affected the economy of USA\n",
       "7                       Latest Release of Apple\n",
       "8                   Evening Traffic in Banglore\n",
       "9                     Results of Bihar Election"
      ]
     },
     "execution_count": 5,
     "metadata": {},
     "output_type": "execute_result"
    }
   ],
   "source": [
    "from selenium import webdriver\n",
    "import time\n",
    "\n",
    "import pandas as pd\n",
    "data = pd.read_excel('auto_eg_1.xlsx')\n",
    "\n",
    "data"
   ]
  },
  {
   "cell_type": "code",
   "execution_count": 6,
   "metadata": {
    "ExecuteTime": {
     "end_time": "2020-11-12T13:41:35.533882Z",
     "start_time": "2020-11-12T13:40:58.142599Z"
    }
   },
   "outputs": [
    {
     "name": "stdout",
     "output_type": "stream",
     "text": [
      "searched for:  Current President of USA\n",
      "searched for:  Latest Model of Tesla\n",
      "searched for:  Current status of Indian stock market\n",
      "searched for:  Data Science blogs\n",
      "searched for:  Best entertaining channel\n",
      "searched for:  Status of Covid Vaccine\n",
      "searched for:  How has pandemic affected the economy of USA\n",
      "searched for:  Latest Release of Apple\n",
      "searched for:  Evening Traffic in Banglore\n",
      "searched for:  Results of Bihar Election\n"
     ]
    }
   ],
   "source": [
    "web = webdriver.Chrome()\n",
    "web.get('https://www.google.co.in/')\n",
    "\n",
    "time.sleep(2)\n",
    "count=1\n",
    "for i in data['Titles']:\n",
    "    element_to_search=i\n",
    "    #filling in the element t search\n",
    "    if(count==1):\n",
    "        search_target=web.find_element_by_xpath('//*[@id=\"tsf\"]/div[2]/div[1]/div[1]/div/div[2]/input')\n",
    "    else:\n",
    "        search_target=web.find_element_by_xpath('//*[@id=\"tsf\"]/div[2]/div[1]/div[2]/div/div[2]/input')\n",
    "    search_target.clear()\n",
    "    search_target.send_keys(element_to_search)\n",
    "    #click on search button\n",
    "    if(count==1):\n",
    "        click_target_button=web.find_element_by_xpath('//*[@id=\"tsf\"]/div[2]/div[1]/div[3]/center/input[1]')\n",
    "    else:\n",
    "        click_target_button=web.find_element_by_xpath('//*[@id=\"tsf\"]/div[2]/div[1]/div[2]/button')\n",
    "    click_target_button.click()\n",
    "    count=count+1\n",
    "    print('searched for: ',i)\n",
    "    time.sleep(2)\n",
    "    \n",
    "web.close()    "
   ]
  }
 ],
 "metadata": {
  "kernelspec": {
   "display_name": "Python 3",
   "language": "python",
   "name": "python3"
  },
  "language_info": {
   "codemirror_mode": {
    "name": "ipython",
    "version": 3
   },
   "file_extension": ".py",
   "mimetype": "text/x-python",
   "name": "python",
   "nbconvert_exporter": "python",
   "pygments_lexer": "ipython3",
   "version": "3.7.6"
  },
  "toc": {
   "base_numbering": 1,
   "nav_menu": {},
   "number_sections": true,
   "sideBar": true,
   "skip_h1_title": false,
   "title_cell": "Table of Contents",
   "title_sidebar": "Contents",
   "toc_cell": false,
   "toc_position": {},
   "toc_section_display": true,
   "toc_window_display": false
  }
 },
 "nbformat": 4,
 "nbformat_minor": 4
}
